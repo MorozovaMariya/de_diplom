{
 "cells": [
  {
   "cell_type": "code",
   "execution_count": null,
   "metadata": {},
   "outputs": [],
   "source": [
    "from kafka import KafkaConsumer\n",
    "from json import loads\n",
    "from clickhouse_driver import Client\n",
    "import csv\n",
    "from csv import DictReader\n",
    "from datetime import datetime\n",
    "import time"
   ]
  },
  {
   "cell_type": "code",
   "execution_count": null,
   "metadata": {},
   "outputs": [],
   "source": [
    "client = Client(host='localhost', port=9000)\n",
    "client.execute('CREATE DATABASE IF NOT EXISTS satellite')\n",
    "client.execute('USE satellite')\n",
    "client.execute(\"DROP TABLE IF EXISTS satellite.space\")\n",
    "client.execute(\"DROP TABLE IF EXISTS satellite.list\")\n",
    "\n",
    "#Создание и заполнение таблицы со списком спутников\n",
    "client.execute(\n",
    "    '''CREATE TABLE IF NOT EXISTS satellite.list (\n",
    "     INTLDES String,\n",
    "     NORAD_CAT_ID Int, \n",
    "     OBJECT_TYPE String,\n",
    "     SATNAME String,\n",
    "     COUNTRY String,\n",
    "     LAUNCH date,\n",
    "     SITE String,\n",
    "     DECAY String,\n",
    "     PERIOD Float32,\n",
    "     INCLINATION Float32,\n",
    "     APOGEE Int,\n",
    "     PERIGEE Int,\n",
    "     COMMENT String,\n",
    "     COMMENTCODE String,\n",
    "     RCSVALUE int,\n",
    "     RCS_SIZE String,\n",
    "     FILE Int,\n",
    "     LAUNCH_YEAR Int,\n",
    "     LAUNCH_NUM Int,\n",
    "     LAUNCH_PIECE String,\n",
    "     CURRENT String,\n",
    "     OBJECT_NAME String,\n",
    "     OBJECT_ID String,\n",
    "     OBJECT_NUMBER Int\n",
    "    ) ENGINE = MergeTree()\n",
    "    PRIMARY KEY NORAD_CAT_ID \n",
    "    ORDER BY NORAD_CAT_ID;'''\n",
    ")\n"
   ]
  },
  {
   "cell_type": "code",
   "execution_count": null,
   "metadata": {},
   "outputs": [],
   "source": [
    "schema = {\n",
    "    'INTLDES': str,\n",
    "    'NORAD_CAT_ID': int, \n",
    "    'OBJECT_TYPE': str,\n",
    "    'SATNAME': str,\n",
    "    'COUNTRY': str,\n",
    "    'LAUNCH': lambda x: datetime.strptime(x, '%Y-%m-%d'),\n",
    "    'SITE': str,\n",
    "    'DECAY': str,\n",
    "    'PERIOD': float,\n",
    "    'INCLINATION': float,\n",
    "    'APOGEE': int,\n",
    "    'PERIGEE': int,\n",
    "    'COMMENT': str,\n",
    "    'COMMENTCODE': str,\n",
    "    'RCSVALUE': int,\n",
    "    'RCS_SIZE': str,\n",
    "    'FILE': int,\n",
    "    'LAUNCH_YEAR': int,\n",
    "    'LAUNCH_NUM': int,\n",
    "    'LAUNCH_PIECE': str,\n",
    "    'CURRENT': str,\n",
    "    'OBJECT_NAME': str,\n",
    "    'OBJECT_ID': str,\n",
    "    'OBJECT_NUMBER': int\n",
    "}\n",
    "bypass = lambda x: x\n",
    "\n",
    "with open('../data_in/satellite_list.csv') as f:\n",
    "    #print (f)\n",
    "    gen = ({k: schema.get(k, bypass)(v) for k, v in row.items()} for row in csv.DictReader(f))\n",
    "    print(gen)\n",
    "    client.execute('INSERT INTO satellite.list VALUES', gen)\n"
   ]
  },
  {
   "cell_type": "code",
   "execution_count": null,
   "metadata": {},
   "outputs": [],
   "source": [
    "d=client.execute( '''select * from satellite.list limit 5;''')\n",
    "print (d)"
   ]
  },
  {
   "cell_type": "code",
   "execution_count": null,
   "metadata": {},
   "outputs": [],
   "source": [
    "client.execute('SHOW TABLES')"
   ]
  },
  {
   "cell_type": "code",
   "execution_count": null,
   "metadata": {},
   "outputs": [],
   "source": [
    "client.execute(\n",
    "     '''CREATE TABLE IF NOT EXISTS satellite.space (\n",
    "     SAT_ID Int,\n",
    "     I Int,\n",
    "     UTCDATETIME DateTime,\n",
    "     LAT Float32,\n",
    "     LON Float32\n",
    "    ) ENGINE = MergeTree()\n",
    "    PRIMARY KEY SAT_ID \n",
    "    ORDER BY SAT_ID;'''\n",
    ")\n"
   ]
  },
  {
   "cell_type": "code",
   "execution_count": null,
   "metadata": {},
   "outputs": [],
   "source": [
    "consumer = KafkaConsumer(\n",
    "    'satellite_msg',\n",
    "    auto_offset_reset='earliest',\n",
    "    #reset_offset_on_start=False, #new \n",
    "    enable_auto_commit=True,\n",
    "    group_id='my-group-1',\n",
    "    value_deserializer=lambda m: loads(m.decode('utf-8')),\n",
    "    bootstrap_servers='localhost:9092')"
   ]
  },
  {
   "cell_type": "code",
   "execution_count": null,
   "metadata": {},
   "outputs": [],
   "source": [
    "d=client.execute('SHOW TABLES')\n",
    "print (d)\n",
    "d=client.execute( '''select count(1) from satellite.list;''')\n",
    "print (d)\n",
    "d=client.execute( '''select count(1) from satellite.space;''')\n",
    "print (d)\n",
    "d=client.execute( '''select distinct(l.NORAD_CAT_ID), l.SATNAME\n",
    " from satellite.space s left join satellite.list l on l.NORAD_CAT_ID = s.SAT_ID;''')\n",
    "print ('Список спутников с данными:')\n",
    "print (d)"
   ]
  },
  {
   "cell_type": "code",
   "execution_count": null,
   "metadata": {},
   "outputs": [],
   "source": [
    "# ГЛАВНАЯ вставка данных о координатах проекций\n",
    "msg_counter = 0\n",
    "for msg in consumer:\n",
    "    msg_counter +=1\n",
    "    #print (msg.value)\n",
    "    print ('-------------------NEW_MSG----------------------------------------------')\n",
    "    l = msg.value.split('\\n')\n",
    "    tuples_space = []\n",
    "    for row in l:\n",
    "        tuples_space.append('(' + row + ')')\n",
    "    values_for_insert = ','.join(tuples_space)\n",
    "    #print (values_for_insert)\n",
    "    sql = '''INSERT INTO satellite.space VALUES {};'''.format(values_for_insert)\n",
    "    print (sql)\n",
    "    d=client.execute(sql)\n",
    "    print ('------------------Count_msg = ' + str(msg_counter))\n",
    "    print ('------------------sleep 1')\n",
    "    time.sleep(1)\n",
    "    #client.execute('INSERT INTO satellite.space VALUES  (%s)' % ', '.join(list(map(str, m.value.values()))))"
   ]
  },
  {
   "cell_type": "code",
   "execution_count": null,
   "metadata": {},
   "outputs": [],
   "source": []
  }
 ],
 "metadata": {
  "kernelspec": {
   "display_name": "Python 3",
   "language": "python",
   "name": "python3"
  },
  "language_info": {
   "codemirror_mode": {
    "name": "ipython",
    "version": 3
   },
   "file_extension": ".py",
   "mimetype": "text/x-python",
   "name": "python",
   "nbconvert_exporter": "python",
   "pygments_lexer": "ipython3",
   "version": "3.7.6"
  }
 },
 "nbformat": 4,
 "nbformat_minor": 4
}
